{
 "cells": [
  {
   "cell_type": "markdown",
   "id": "fc9ba703",
   "metadata": {},
   "source": [
    "# Running Sum of 1d Array"
   ]
  },
  {
   "cell_type": "code",
   "execution_count": null,
   "id": "b369aa46",
   "metadata": {},
   "outputs": [],
   "source": [
    "class Solution:\n",
    "    def runningSum(self, nums: List[int]) -> List[int]:\n",
    "        retList = [nums[0]]\n",
    "        for i in range(1, len(nums)):\n",
    "            retList.append(retList[-1]+nums[i])\n",
    "        return retList"
   ]
  },
  {
   "cell_type": "markdown",
   "id": "e43ae5c1",
   "metadata": {},
   "source": [
    "# Q2. Shuffle the Array"
   ]
  },
  {
   "cell_type": "code",
   "execution_count": null,
   "id": "13e123c5",
   "metadata": {},
   "outputs": [],
   "source": [
    "class Solution:\n",
    "    def shuffle(self, nums: List[int], n: int) -> List[int]:\n",
    "        return [nums[x + n * y] for x in range(n) for y in range(2)]"
   ]
  },
  {
   "cell_type": "markdown",
   "id": "8eaa5523",
   "metadata": {},
   "source": [
    "# Q3.Kids With the Greatest Number of Candies"
   ]
  },
  {
   "cell_type": "code",
   "execution_count": null,
   "id": "0a38e75d",
   "metadata": {},
   "outputs": [],
   "source": [
    "class Solution:\n",
    "    def kidsWithCandies(self, candies: List[int], extraCandies: int) -> List[bool]:\n",
    "        maxCandies = max(candies)\n",
    "        return [candy+extraCandies >= maxCandies for candy in candies]"
   ]
  }
 ],
 "metadata": {
  "kernelspec": {
   "display_name": "Python 3 (ipykernel)",
   "language": "python",
   "name": "python3"
  },
  "language_info": {
   "codemirror_mode": {
    "name": "ipython",
    "version": 3
   },
   "file_extension": ".py",
   "mimetype": "text/x-python",
   "name": "python",
   "nbconvert_exporter": "python",
   "pygments_lexer": "ipython3",
   "version": "3.9.13"
  }
 },
 "nbformat": 4,
 "nbformat_minor": 5
}
